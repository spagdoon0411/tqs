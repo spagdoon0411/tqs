{
 "cells": [
  {
   "cell_type": "code",
   "execution_count": 2,
   "metadata": {},
   "outputs": [],
   "source": [
    "from Hamiltonian import Ising"
   ]
  },
  {
   "cell_type": "code",
   "execution_count": 3,
   "metadata": {},
   "outputs": [
    {
     "name": "stderr",
     "output_type": "stream",
     "text": [
      "/Users/spandan/Projects/old/tqs/Hamiltonian_utils.py:44: UserWarning: To copy construct from a tensor, it is recommended to use sourceTensor.clone().detach() or sourceTensor.clone().detach().requires_grad_(True), rather than torch.tensor(sourceTensor).\n",
      "  system_size = torch.tensor(system_size, dtype=torch.int64).reshape(-1)\n"
     ]
    }
   ],
   "source": [
    "i = Ising(8, periodic=False)"
   ]
  },
  {
   "cell_type": "markdown",
   "metadata": {},
   "source": [
    "Ising provides the familiar Ising model Hamiltonian, stored as a sparse matrix:"
   ]
  },
  {
   "cell_type": "code",
   "execution_count": 4,
   "metadata": {},
   "outputs": [
    {
     "name": "stdout",
     "output_type": "stream",
     "text": [
      "<Compressed Sparse Row sparse matrix of dtype 'float64'\n",
      "\twith 2304 stored elements and shape (256, 256)>\n",
      "  Coords\tValues\n",
      "  (0, 0)\t-7.0\n",
      "  (0, 1)\t-1.0\n",
      "  (0, 2)\t-1.0\n",
      "  (0, 4)\t-1.0\n",
      "  (0, 8)\t-1.0\n",
      "  (0, 16)\t-1.0\n",
      "  (0, 32)\t-1.0\n",
      "  (0, 64)\t-1.0\n",
      "  (0, 128)\t-1.0\n",
      "  (1, 0)\t-1.0\n",
      "  (1, 1)\t-5.0\n",
      "  (1, 3)\t-1.0\n",
      "  (1, 5)\t-1.0\n",
      "  (1, 9)\t-1.0\n",
      "  (1, 17)\t-1.0\n",
      "  (1, 33)\t-1.0\n",
      "  (1, 65)\t-1.0\n",
      "  (1, 129)\t-1.0\n",
      "  (2, 0)\t-1.0\n",
      "  (2, 2)\t-3.0\n",
      "  (2, 3)\t-1.0\n",
      "  (2, 6)\t-1.0\n",
      "  (2, 10)\t-1.0\n",
      "  (2, 18)\t-1.0\n",
      "  (2, 34)\t-1.0\n",
      "  :\t:\n",
      "  (253, 221)\t-1.0\n",
      "  (253, 237)\t-1.0\n",
      "  (253, 245)\t-1.0\n",
      "  (253, 249)\t-1.0\n",
      "  (253, 252)\t-1.0\n",
      "  (253, 253)\t-3.0\n",
      "  (253, 255)\t-1.0\n",
      "  (254, 126)\t-1.0\n",
      "  (254, 190)\t-1.0\n",
      "  (254, 222)\t-1.0\n",
      "  (254, 238)\t-1.0\n",
      "  (254, 246)\t-1.0\n",
      "  (254, 250)\t-1.0\n",
      "  (254, 252)\t-1.0\n",
      "  (254, 254)\t-5.0\n",
      "  (254, 255)\t-1.0\n",
      "  (255, 127)\t-1.0\n",
      "  (255, 191)\t-1.0\n",
      "  (255, 223)\t-1.0\n",
      "  (255, 239)\t-1.0\n",
      "  (255, 247)\t-1.0\n",
      "  (255, 251)\t-1.0\n",
      "  (255, 253)\t-1.0\n",
      "  (255, 254)\t-1.0\n",
      "  (255, 255)\t-7.0\n"
     ]
    }
   ],
   "source": [
    "print(i.full_H(param=-1))"
   ]
  },
  {
   "cell_type": "code",
   "execution_count": 5,
   "metadata": {},
   "outputs": [
    {
     "name": "stdout",
     "output_type": "stream",
     "text": [
      "[[-7. -1. -1. ...  0.  0.  0.]\n",
      " [-1. -5.  0. ...  0.  0.  0.]\n",
      " [-1.  0. -3. ...  0.  0.  0.]\n",
      " ...\n",
      " [ 0.  0.  0. ... -3.  0. -1.]\n",
      " [ 0.  0.  0. ...  0. -5. -1.]\n",
      " [ 0.  0.  0. ... -1. -1. -7.]]\n"
     ]
    }
   ],
   "source": [
    "print(i.full_H(param=-1).toarray())"
   ]
  },
  {
   "cell_type": "markdown",
   "metadata": {},
   "source": [
    "First goal: calculate ground states in a memoized manner (i.e., store ground states as they are calculated. If a ground state has been calculated, do not recalculate it). \n",
    "\n",
    "One ground state for every set of parameters (i.e., for every \\vec J)."
   ]
  },
  {
   "cell_type": "code",
   "execution_count": 2,
   "metadata": {},
   "outputs": [],
   "source": [
    "import numpy as np"
   ]
  },
  {
   "cell_type": "code",
   "execution_count": 3,
   "metadata": {},
   "outputs": [],
   "source": [
    "system_sizes = np.arange(10, 41, 2).reshape(-1, 1)"
   ]
  },
  {
   "cell_type": "code",
   "execution_count": null,
   "metadata": {},
   "outputs": [],
   "source": []
  }
 ],
 "metadata": {
  "kernelspec": {
   "display_name": "tqs",
   "language": "python",
   "name": "python3"
  },
  "language_info": {
   "codemirror_mode": {
    "name": "ipython",
    "version": 3
   },
   "file_extension": ".py",
   "mimetype": "text/x-python",
   "name": "python",
   "nbconvert_exporter": "python",
   "pygments_lexer": "ipython3",
   "version": "3.12.2"
  }
 },
 "nbformat": 4,
 "nbformat_minor": 2
}
