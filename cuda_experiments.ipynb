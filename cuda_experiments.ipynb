{
 "cells": [
  {
   "cell_type": "code",
   "execution_count": 1,
   "metadata": {},
   "outputs": [],
   "source": [
    "import torch\n",
    "import cupy as cp\n",
    "import psutil\n",
    "import numpy as np"
   ]
  },
  {
   "cell_type": "markdown",
   "metadata": {},
   "source": [
    "## Hardware Setup and Reporting"
   ]
  },
  {
   "cell_type": "code",
   "execution_count": 2,
   "metadata": {},
   "outputs": [
    {
     "name": "stdout",
     "output_type": "stream",
     "text": [
      "Tue Jul 23 12:50:59 2024       \n",
      "+-----------------------------------------------------------------------------------------+\n",
      "| NVIDIA-SMI 552.41                 Driver Version: 552.41         CUDA Version: 12.4     |\n",
      "|-----------------------------------------+------------------------+----------------------+\n",
      "| GPU  Name                     TCC/WDDM  | Bus-Id          Disp.A | Volatile Uncorr. ECC |\n",
      "| Fan  Temp   Perf          Pwr:Usage/Cap |           Memory-Usage | GPU-Util  Compute M. |\n",
      "|                                         |                        |               MIG M. |\n",
      "|=========================================+========================+======================|\n",
      "|   0  NVIDIA GeForce RTX 4090      WDDM  |   00000000:01:00.0  On |                  Off |\n",
      "| 30%   28C    P8             13W /  450W |     502MiB /  24564MiB |      0%      Default |\n",
      "|                                         |                        |                  N/A |\n",
      "+-----------------------------------------+------------------------+----------------------+\n",
      "                                                                                         \n",
      "+-----------------------------------------------------------------------------------------+\n",
      "| Processes:                                                                              |\n",
      "|  GPU   GI   CI        PID   Type   Process name                              GPU Memory |\n",
      "|        ID   ID                                                               Usage      |\n",
      "|=========================================================================================|\n",
      "|    0   N/A  N/A     11520    C+G   C:\\Windows\\explorer.exe                     N/A      |\n",
      "|    0   N/A  N/A     13220    C+G   ...2txyewy\\StartMenuExperienceHost.exe      N/A      |\n",
      "|    0   N/A  N/A     13244    C+G   ...nt.CBS_cw5n1h2txyewy\\SearchHost.exe      N/A      |\n",
      "|    0   N/A  N/A     16280    C+G   ...ekyb3d8bbwe\\PhoneExperienceHost.exe      N/A      |\n",
      "|    0   N/A  N/A     16844    C+G   ...crosoft\\Edge\\Application\\msedge.exe      N/A      |\n",
      "|    0   N/A  N/A     17180    C+G   ...les\\Microsoft OneDrive\\OneDrive.exe      N/A      |\n",
      "|    0   N/A  N/A     19576    C+G   ...Programs\\Microsoft VS Code\\Code.exe      N/A      |\n",
      "|    0   N/A  N/A     21884    C+G   ...on\\HEX\\Creative Cloud UI Helper.exe      N/A      |\n",
      "+-----------------------------------------------------------------------------------------+\n"
     ]
    }
   ],
   "source": [
    "!nvidia-smi"
   ]
  },
  {
   "cell_type": "code",
   "execution_count": 3,
   "metadata": {},
   "outputs": [],
   "source": [
    "def gpu_setup():\n",
    "    # Setup for PyTorch:\n",
    "    if torch.cuda.is_available():\n",
    "        torch_device = torch.device('cuda')\n",
    "        print('PyTorch is using GPU {}'.format(torch.cuda.current_device()))\n",
    "    else:\n",
    "        torch_device = torch.device('cpu')\n",
    "        print('GPU unavailable; using CPU')\n",
    "\n",
    "    # Setup for CuPy:\n",
    "    cupy_device = cp.cuda.Device(0)\n",
    "    cupy_device.use()\n",
    "    print('CuPy is using GPU {}'.format(cupy_device))\n",
    "\n",
    "    return torch_device, cupy_device"
   ]
  },
  {
   "cell_type": "code",
   "execution_count": 4,
   "metadata": {},
   "outputs": [
    {
     "name": "stdout",
     "output_type": "stream",
     "text": [
      "PyTorch is using GPU 0\n",
      "CuPy is using GPU <CUDA Device 0>\n"
     ]
    }
   ],
   "source": [
    "torch_device, cupy_device = gpu_setup()"
   ]
  },
  {
   "cell_type": "code",
   "execution_count": 5,
   "metadata": {},
   "outputs": [],
   "source": [
    "BYTES_IN_GB = 1024 * 1024 * 1024\n",
    "def sys_report():\n",
    "    print(\"CPU: \", psutil.cpu_percent(), \"percent\")\n",
    "    print(\"MEM: \", psutil.virtual_memory().available / BYTES_IN_GB, \"GB available\")\n",
    "    print(\"SWAP: \", psutil.swap_memory().used / BYTES_IN_GB, \"GB used\")\n",
    "    print(\"DISK: \", psutil.disk_usage('/').free / BYTES_IN_GB, \"GB available\")\n",
    "    print(\"PyTorch GPU: \", torch.cuda.memory_allocated() / BYTES_IN_GB, \"GB used\")"
   ]
  },
  {
   "cell_type": "code",
   "execution_count": 6,
   "metadata": {},
   "outputs": [
    {
     "name": "stdout",
     "output_type": "stream",
     "text": [
      "CPU:  4.5 percent\n",
      "MEM:  22.22588348388672 GB available\n",
      "SWAP:  0.0 GB used\n",
      "DISK:  1606.927375793457 GB available\n",
      "PyTorch GPU:  0.0 GB used\n"
     ]
    }
   ],
   "source": [
    "sys_report()"
   ]
  },
  {
   "cell_type": "markdown",
   "metadata": {},
   "source": [
    "## Full-CUDA Hamiltonian Construction"
   ]
  },
  {
   "cell_type": "code",
   "execution_count": 1,
   "metadata": {},
   "outputs": [],
   "source": [
    "# from cupyx.scipy.sparse import identity, kron\n",
    "# from cupyx.scipy.sparse import csr_matrix\n",
    "# from cupyx.scipy.sparse.linalg import eigsh \n",
    "import numpy as np\n",
    "from scipy.sparse import identity, kron, csr_matrix\n",
    "from scipy.sparse.linalg import eigsh"
   ]
  },
  {
   "cell_type": "code",
   "execution_count": 2,
   "metadata": {},
   "outputs": [
    {
     "data": {
      "text/plain": [
       "array([[1., 0., 0., 0., 0.],\n",
       "       [0., 1., 0., 0., 0.],\n",
       "       [0., 0., 1., 0., 0.],\n",
       "       [0., 0., 0., 1., 0.],\n",
       "       [0., 0., 0., 0., 1.]])"
      ]
     },
     "execution_count": 2,
     "metadata": {},
     "output_type": "execute_result"
    }
   ],
   "source": [
    "identity(5, format='csr').toarray()"
   ]
  },
  {
   "cell_type": "code",
   "execution_count": 9,
   "metadata": {},
   "outputs": [],
   "source": [
    "from functools import reduce"
   ]
  },
  {
   "cell_type": "code",
   "execution_count": 16,
   "metadata": {},
   "outputs": [],
   "source": [
    "import time"
   ]
  },
  {
   "cell_type": "code",
   "execution_count": 17,
   "metadata": {},
   "outputs": [],
   "source": [
    "import scipy as sp"
   ]
  },
  {
   "cell_type": "code",
   "execution_count": 18,
   "metadata": {},
   "outputs": [],
   "source": [
    "def tfim_hamiltonian_cuda(N, h, J, periodic, return_time):\n",
    "    # TODO: CUDA stores matrices in row-major order--though I'm not yet certain about \n",
    "    # how important this is to performance\n",
    "\n",
    "    start = time.time()\n",
    "\n",
    "    I = identity(2, format='csr')\n",
    "    X = csr_matrix([[0.0, 1.0], [1.0, 0.0]])\n",
    "    Z = csr_matrix([[1.0, 0.0], [0.0, -1.0]])\n",
    "\n",
    "    operators_first_term = np.array([I] * N)\n",
    "    operators_first_term[0] = Z\n",
    "    operators_first_term[1] = Z\n",
    "\n",
    "    operators_second_term = np.array([I] * N)\n",
    "    operators_second_term[0] = X\n",
    "\n",
    "    H = csr_matrix((2**N, 2**N))\n",
    "\n",
    "    # NOTE: roll might cause reallocations but is not an issue because \n",
    "    # both N and the sizes of I, X, and Z are quite small. TODO: perhaps \n",
    "    # verify this and consider a different method?\n",
    "\n",
    "    for _ in range(N if periodic else N - 1):\n",
    "        H -= J * reduce(kron, operators_first_term)\n",
    "        operators_first_term = np.roll(operators_first_term, 1)\n",
    "\n",
    "    for _ in range(N):\n",
    "        H -= h * reduce(kron, operators_second_term)\n",
    "        operators_second_term = np.roll(operators_second_term, 1)\n",
    "\n",
    "    end = time.time()\n",
    "\n",
    "    if return_time:\n",
    "        return H, end - start\n",
    "    else:   \n",
    "        return H"
   ]
  },
  {
   "cell_type": "code",
   "execution_count": 19,
   "metadata": {},
   "outputs": [],
   "source": [
    "from cupyx.profiler import benchmark"
   ]
  },
  {
   "cell_type": "code",
   "execution_count": 20,
   "metadata": {},
   "outputs": [
    {
     "ename": "AttributeError",
     "evalue": "Module 'scipy' has no attribute 'array'",
     "output_type": "error",
     "traceback": [
      "\u001b[1;31m---------------------------------------------------------------------------\u001b[0m",
      "\u001b[1;31mKeyError\u001b[0m                                  Traceback (most recent call last)",
      "File \u001b[1;32mc:\\Users\\csmuser\\anaconda3\\envs\\tqs\\Lib\\site-packages\\scipy\\__init__.py:137\u001b[0m, in \u001b[0;36m__getattr__\u001b[1;34m(name)\u001b[0m\n\u001b[0;32m    136\u001b[0m \u001b[38;5;28;01mtry\u001b[39;00m:\n\u001b[1;32m--> 137\u001b[0m     \u001b[38;5;28;01mreturn\u001b[39;00m \u001b[38;5;28;43mglobals\u001b[39;49m\u001b[43m(\u001b[49m\u001b[43m)\u001b[49m\u001b[43m[\u001b[49m\u001b[43mname\u001b[49m\u001b[43m]\u001b[49m\n\u001b[0;32m    138\u001b[0m \u001b[38;5;28;01mexcept\u001b[39;00m \u001b[38;5;167;01mKeyError\u001b[39;00m:\n",
      "\u001b[1;31mKeyError\u001b[0m: 'array'",
      "\nDuring handling of the above exception, another exception occurred:\n",
      "\u001b[1;31mAttributeError\u001b[0m                            Traceback (most recent call last)",
      "Cell \u001b[1;32mIn[20], line 1\u001b[0m\n\u001b[1;32m----> 1\u001b[0m \u001b[43mtfim_hamiltonian_cuda\u001b[49m\u001b[43m(\u001b[49m\u001b[38;5;241;43m5\u001b[39;49m\u001b[43m,\u001b[49m\u001b[43m \u001b[49m\u001b[38;5;241;43m1.0\u001b[39;49m\u001b[43m,\u001b[49m\u001b[43m \u001b[49m\u001b[38;5;241;43m1.0\u001b[39;49m\u001b[43m,\u001b[49m\u001b[43m \u001b[49m\u001b[38;5;28;43;01mTrue\u001b[39;49;00m\u001b[43m,\u001b[49m\u001b[43m \u001b[49m\u001b[38;5;28;43;01mTrue\u001b[39;49;00m\u001b[43m)\u001b[49m\n",
      "Cell \u001b[1;32mIn[18], line 8\u001b[0m, in \u001b[0;36mtfim_hamiltonian_cuda\u001b[1;34m(N, h, J, periodic, return_time)\u001b[0m\n\u001b[0;32m      5\u001b[0m start \u001b[38;5;241m=\u001b[39m time\u001b[38;5;241m.\u001b[39mtime()\n\u001b[0;32m      7\u001b[0m I \u001b[38;5;241m=\u001b[39m identity(\u001b[38;5;241m2\u001b[39m, \u001b[38;5;28mformat\u001b[39m\u001b[38;5;241m=\u001b[39m\u001b[38;5;124m'\u001b[39m\u001b[38;5;124mcsr\u001b[39m\u001b[38;5;124m'\u001b[39m)\n\u001b[1;32m----> 8\u001b[0m X \u001b[38;5;241m=\u001b[39m csr_matrix(\u001b[43msp\u001b[49m\u001b[38;5;241;43m.\u001b[39;49m\u001b[43marray\u001b[49m([[\u001b[38;5;241m0.0\u001b[39m, \u001b[38;5;241m1.0\u001b[39m], [\u001b[38;5;241m1.0\u001b[39m, \u001b[38;5;241m0.0\u001b[39m]]))\n\u001b[0;32m      9\u001b[0m Z \u001b[38;5;241m=\u001b[39m csr_matrix(sp\u001b[38;5;241m.\u001b[39marray([[\u001b[38;5;241m1.0\u001b[39m, \u001b[38;5;241m0.0\u001b[39m], [\u001b[38;5;241m0.0\u001b[39m, \u001b[38;5;241m-\u001b[39m\u001b[38;5;241m1.0\u001b[39m]]))\n\u001b[0;32m     11\u001b[0m operators_first_term \u001b[38;5;241m=\u001b[39m np\u001b[38;5;241m.\u001b[39marray([I] \u001b[38;5;241m*\u001b[39m N)\n",
      "File \u001b[1;32mc:\\Users\\csmuser\\anaconda3\\envs\\tqs\\Lib\\site-packages\\scipy\\__init__.py:139\u001b[0m, in \u001b[0;36m__getattr__\u001b[1;34m(name)\u001b[0m\n\u001b[0;32m    137\u001b[0m     \u001b[38;5;28;01mreturn\u001b[39;00m \u001b[38;5;28mglobals\u001b[39m()[name]\n\u001b[0;32m    138\u001b[0m \u001b[38;5;28;01mexcept\u001b[39;00m \u001b[38;5;167;01mKeyError\u001b[39;00m:\n\u001b[1;32m--> 139\u001b[0m     \u001b[38;5;28;01mraise\u001b[39;00m \u001b[38;5;167;01mAttributeError\u001b[39;00m(\n\u001b[0;32m    140\u001b[0m         \u001b[38;5;124mf\u001b[39m\u001b[38;5;124m\"\u001b[39m\u001b[38;5;124mModule \u001b[39m\u001b[38;5;124m'\u001b[39m\u001b[38;5;124mscipy\u001b[39m\u001b[38;5;124m'\u001b[39m\u001b[38;5;124m has no attribute \u001b[39m\u001b[38;5;124m'\u001b[39m\u001b[38;5;132;01m{\u001b[39;00mname\u001b[38;5;132;01m}\u001b[39;00m\u001b[38;5;124m'\u001b[39m\u001b[38;5;124m\"\u001b[39m\n\u001b[0;32m    141\u001b[0m     )\n",
      "\u001b[1;31mAttributeError\u001b[0m: Module 'scipy' has no attribute 'array'"
     ]
    }
   ],
   "source": [
    "tfim_hamiltonian_cuda(5, 1.0, 1.0, True, True)"
   ]
  },
  {
   "cell_type": "code",
   "execution_count": 25,
   "metadata": {},
   "outputs": [
    {
     "ename": "AttributeError",
     "evalue": "Module 'scipy' has no attribute 'float32'",
     "output_type": "error",
     "traceback": [
      "\u001b[1;31m---------------------------------------------------------------------------\u001b[0m",
      "\u001b[1;31mKeyError\u001b[0m                                  Traceback (most recent call last)",
      "File \u001b[1;32mc:\\Users\\csmuser\\anaconda3\\envs\\tqs2\\Lib\\site-packages\\scipy\\__init__.py:137\u001b[0m, in \u001b[0;36m__getattr__\u001b[1;34m(name)\u001b[0m\n\u001b[0;32m    136\u001b[0m \u001b[38;5;28;01mtry\u001b[39;00m:\n\u001b[1;32m--> 137\u001b[0m     \u001b[38;5;28;01mreturn\u001b[39;00m \u001b[38;5;28;43mglobals\u001b[39;49m\u001b[43m(\u001b[49m\u001b[43m)\u001b[49m\u001b[43m[\u001b[49m\u001b[43mname\u001b[49m\u001b[43m]\u001b[49m\n\u001b[0;32m    138\u001b[0m \u001b[38;5;28;01mexcept\u001b[39;00m \u001b[38;5;167;01mKeyError\u001b[39;00m:\n",
      "\u001b[1;31mKeyError\u001b[0m: 'float32'",
      "\nDuring handling of the above exception, another exception occurred:\n",
      "\u001b[1;31mAttributeError\u001b[0m                            Traceback (most recent call last)",
      "Cell \u001b[1;32mIn[25], line 1\u001b[0m\n\u001b[1;32m----> 1\u001b[0m \u001b[38;5;28mprint\u001b[39m(\u001b[43mbenchmark\u001b[49m\u001b[43m(\u001b[49m\u001b[43mtfim_hamiltonian_cuda\u001b[49m\u001b[43m,\u001b[49m\u001b[43m \u001b[49m\u001b[43m(\u001b[49m\u001b[38;5;241;43m18\u001b[39;49m\u001b[43m,\u001b[49m\u001b[43m \u001b[49m\u001b[38;5;241;43m100\u001b[39;49m\u001b[43m,\u001b[49m\u001b[43m \u001b[49m\u001b[38;5;241;43m1\u001b[39;49m\u001b[43m,\u001b[49m\u001b[43m \u001b[49m\u001b[38;5;28;43;01mTrue\u001b[39;49;00m\u001b[43m,\u001b[49m\u001b[43m \u001b[49m\u001b[43mcp\u001b[49m\u001b[38;5;241;43m.\u001b[39;49m\u001b[43mfloat32\u001b[49m\u001b[43m,\u001b[49m\u001b[43m \u001b[49m\u001b[38;5;28;43;01mFalse\u001b[39;49;00m\u001b[43m)\u001b[49m\u001b[43m,\u001b[49m\u001b[43m \u001b[49m\u001b[43mn_repeat\u001b[49m\u001b[38;5;241;43m=\u001b[39;49m\u001b[38;5;241;43m30\u001b[39;49m\u001b[43m,\u001b[49m\u001b[43m \u001b[49m\u001b[43mn_warmup\u001b[49m\u001b[38;5;241;43m=\u001b[39;49m\u001b[38;5;241;43m10\u001b[39;49m\u001b[43m)\u001b[49m)\n",
      "File \u001b[1;32mc:\\Users\\csmuser\\anaconda3\\envs\\tqs2\\Lib\\site-packages\\cupyx\\profiler\\_time.py:153\u001b[0m, in \u001b[0;36mbenchmark\u001b[1;34m(func, args, kwargs, n_repeat, name, n_warmup, max_duration, devices)\u001b[0m\n\u001b[0;32m    150\u001b[0m \u001b[38;5;28;01mif\u001b[39;00m \u001b[38;5;129;01mnot\u001b[39;00m \u001b[38;5;28misinstance\u001b[39m(devices, \u001b[38;5;28mtuple\u001b[39m):\n\u001b[0;32m    151\u001b[0m     \u001b[38;5;28;01mraise\u001b[39;00m \u001b[38;5;167;01mValueError\u001b[39;00m(\u001b[38;5;124m'\u001b[39m\u001b[38;5;124m`devices` should be of tuple type\u001b[39m\u001b[38;5;124m'\u001b[39m)\n\u001b[1;32m--> 153\u001b[0m \u001b[38;5;28;01mreturn\u001b[39;00m \u001b[43m_repeat\u001b[49m\u001b[43m(\u001b[49m\n\u001b[0;32m    154\u001b[0m \u001b[43m    \u001b[49m\u001b[43mfunc\u001b[49m\u001b[43m,\u001b[49m\u001b[43m \u001b[49m\u001b[43margs\u001b[49m\u001b[43m,\u001b[49m\u001b[43m \u001b[49m\u001b[43mkwargs\u001b[49m\u001b[43m,\u001b[49m\u001b[43m \u001b[49m\u001b[43mn_repeat\u001b[49m\u001b[43m,\u001b[49m\u001b[43m \u001b[49m\u001b[43mname\u001b[49m\u001b[43m,\u001b[49m\u001b[43m \u001b[49m\u001b[43mn_warmup\u001b[49m\u001b[43m,\u001b[49m\u001b[43m \u001b[49m\u001b[43mmax_duration\u001b[49m\u001b[43m,\u001b[49m\u001b[43m \u001b[49m\u001b[43mdevices\u001b[49m\u001b[43m)\u001b[49m\n",
      "File \u001b[1;32mc:\\Users\\csmuser\\anaconda3\\envs\\tqs2\\Lib\\site-packages\\cupyx\\profiler\\_time.py:173\u001b[0m, in \u001b[0;36m_repeat\u001b[1;34m(func, args, kwargs, n_repeat, name, n_warmup, max_duration, devices)\u001b[0m\n\u001b[0;32m    170\u001b[0m         runtime\u001b[38;5;241m.\u001b[39msetDevice(prev_device)\n\u001b[0;32m    172\u001b[0m \u001b[38;5;28;01mfor\u001b[39;00m i \u001b[38;5;129;01min\u001b[39;00m \u001b[38;5;28mrange\u001b[39m(n_warmup):\n\u001b[1;32m--> 173\u001b[0m     \u001b[43mfunc\u001b[49m\u001b[43m(\u001b[49m\u001b[38;5;241;43m*\u001b[39;49m\u001b[43margs\u001b[49m\u001b[43m,\u001b[49m\u001b[43m \u001b[49m\u001b[38;5;241;43m*\u001b[39;49m\u001b[38;5;241;43m*\u001b[39;49m\u001b[43mkwargs\u001b[49m\u001b[43m)\u001b[49m\n\u001b[0;32m    175\u001b[0m \u001b[38;5;28;01mfor\u001b[39;00m event, device \u001b[38;5;129;01min\u001b[39;00m \u001b[38;5;28mzip\u001b[39m(events_1, devices):\n\u001b[0;32m    176\u001b[0m     prev_device \u001b[38;5;241m=\u001b[39m runtime\u001b[38;5;241m.\u001b[39mgetDevice()\n",
      "Cell \u001b[1;32mIn[24], line 7\u001b[0m, in \u001b[0;36mtfim_hamiltonian_cuda\u001b[1;34m(N, h, J, periodic, dtype, return_time)\u001b[0m\n\u001b[0;32m      1\u001b[0m \u001b[38;5;28;01mdef\u001b[39;00m \u001b[38;5;21mtfim_hamiltonian_cuda\u001b[39m(N, h, J, periodic, dtype, return_time):\n\u001b[0;32m      2\u001b[0m     \u001b[38;5;66;03m# TODO: CUDA stores matrices in row-major order--though I'm not yet certain about \u001b[39;00m\n\u001b[0;32m      3\u001b[0m     \u001b[38;5;66;03m# how important this is to performance\u001b[39;00m\n\u001b[0;32m      5\u001b[0m     start \u001b[38;5;241m=\u001b[39m time\u001b[38;5;241m.\u001b[39mtime()\n\u001b[1;32m----> 7\u001b[0m     constants_dtype \u001b[38;5;241m=\u001b[39m \u001b[43msp\u001b[49m\u001b[38;5;241;43m.\u001b[39;49m\u001b[43mfloat32\u001b[49m\n\u001b[0;32m      8\u001b[0m     I \u001b[38;5;241m=\u001b[39m identity(\u001b[38;5;241m2\u001b[39m, \u001b[38;5;28mformat\u001b[39m\u001b[38;5;241m=\u001b[39m\u001b[38;5;124m'\u001b[39m\u001b[38;5;124mcsr\u001b[39m\u001b[38;5;124m'\u001b[39m, dtype\u001b[38;5;241m=\u001b[39mconstants_dtype)\n\u001b[0;32m      9\u001b[0m     X \u001b[38;5;241m=\u001b[39m sp\u001b[38;5;241m.\u001b[39msparse\u001b[38;5;241m.\u001b[39mcsr_matrix(sp\u001b[38;5;241m.\u001b[39marray([[\u001b[38;5;241m0.0\u001b[39m, \u001b[38;5;241m1.0\u001b[39m], [\u001b[38;5;241m1.0\u001b[39m, \u001b[38;5;241m0.0\u001b[39m]]), dtype\u001b[38;5;241m=\u001b[39mconstants_dtype)\n",
      "File \u001b[1;32mc:\\Users\\csmuser\\anaconda3\\envs\\tqs2\\Lib\\site-packages\\scipy\\__init__.py:139\u001b[0m, in \u001b[0;36m__getattr__\u001b[1;34m(name)\u001b[0m\n\u001b[0;32m    137\u001b[0m     \u001b[38;5;28;01mreturn\u001b[39;00m \u001b[38;5;28mglobals\u001b[39m()[name]\n\u001b[0;32m    138\u001b[0m \u001b[38;5;28;01mexcept\u001b[39;00m \u001b[38;5;167;01mKeyError\u001b[39;00m:\n\u001b[1;32m--> 139\u001b[0m     \u001b[38;5;28;01mraise\u001b[39;00m \u001b[38;5;167;01mAttributeError\u001b[39;00m(\n\u001b[0;32m    140\u001b[0m         \u001b[38;5;124mf\u001b[39m\u001b[38;5;124m\"\u001b[39m\u001b[38;5;124mModule \u001b[39m\u001b[38;5;124m'\u001b[39m\u001b[38;5;124mscipy\u001b[39m\u001b[38;5;124m'\u001b[39m\u001b[38;5;124m has no attribute \u001b[39m\u001b[38;5;124m'\u001b[39m\u001b[38;5;132;01m{\u001b[39;00mname\u001b[38;5;132;01m}\u001b[39;00m\u001b[38;5;124m'\u001b[39m\u001b[38;5;124m\"\u001b[39m\n\u001b[0;32m    141\u001b[0m     )\n",
      "\u001b[1;31mAttributeError\u001b[0m: Module 'scipy' has no attribute 'float32'"
     ]
    }
   ],
   "source": [
    "print(benchmark(tfim_hamiltonian_cuda, (18, 100, 1, True, cp.float32, False), n_repeat=30, n_warmup=10))"
   ]
  },
  {
   "cell_type": "code",
   "execution_count": null,
   "metadata": {},
   "outputs": [
    {
     "name": "stdout",
     "output_type": "stream",
     "text": [
      "[[0.00204302]\n",
      " [0.00202264]\n",
      " [0.00202264]\n",
      " ...\n",
      " [0.00202264]\n",
      " [0.00202264]\n",
      " [0.00204302]]\n"
     ]
    }
   ],
   "source": [
    "print(psi)"
   ]
  },
  {
   "cell_type": "code",
   "execution_count": null,
   "metadata": {},
   "outputs": [
    {
     "name": "stdout",
     "output_type": "stream",
     "text": [
      "Hamiltonian of shape (1024, 1024) constructed\n",
      "Hamiltonian of shape (2048, 2048) constructed\n",
      "Hamiltonian of shape (4096, 4096) constructed\n",
      "Hamiltonian of shape (8192, 8192) constructed\n",
      "Hamiltonian of shape (16384, 16384) constructed\n",
      "Hamiltonian of shape (32768, 32768) constructed\n",
      "Hamiltonian of shape (65536, 65536) constructed\n",
      "Hamiltonian of shape (131072, 131072) constructed\n",
      "Hamiltonian of shape (262144, 262144) constructed\n",
      "Hamiltonian of shape (524288, 524288) constructed\n",
      "Hamiltonian of shape (1048576, 1048576) constructed\n",
      "Hamiltonian of shape (2097152, 2097152) constructed\n",
      "Hamiltonian of shape (4194304, 4194304) constructed\n"
     ]
    }
   ],
   "source": [
    "import time\n",
    "\n",
    "import matplotlib.pyplot as plt\n",
    "\n",
    "# Define the range of system sizes\n",
    "system_sizes = range(10, 23)\n",
    "\n",
    "# Initialize empty lists to store the timings\n",
    "construction_times = []\n",
    "total_times = []\n",
    "bytes = []\n",
    "mempool_used = []   \n",
    "pinned_mempool_used = []\n",
    "\n",
    "mempool = cp.get_default_memory_pool()\n",
    "# pinned_mempool = cp.get_default_pinned_memory_pool()\n",
    "\n",
    "# Loop over the system sizes\n",
    "for N in system_sizes:\n",
    "    # Start timing the construction of the Hamiltonian\n",
    "    start_construction = time.time()\n",
    "\n",
    "    # Construct the Hamiltonian\n",
    "    H = tfim_hamiltonian_cuda(N, 100, 1, periodic=True, dtype=cp.float32, return_time=False)\n",
    "\n",
    "    # End timing the construction of the Hamiltonian\n",
    "    end_construction = time.time()\n",
    "\n",
    "    print(\"Hamiltonian of shape\", H.shape, \"constructed\")\n",
    "\n",
    "    H_bytes = H.data.nbytes + H.indptr.nbytes + H.indices.nbytes\n",
    "\n",
    "\n",
    "    # Start timing the total time (including construction and diagonalization)\n",
    "    start_total = time.time()\n",
    "\n",
    "    # Diagonalize the Hamiltonian (replace this with your own code)\n",
    "    # ...\n",
    "\n",
    "    # End timing the total time\n",
    "    end_total = time.time()\n",
    "\n",
    "    # Calculate the construction time and total time\n",
    "    construction_time = end_construction - start_construction\n",
    "    total_time = end_total - start_total\n",
    "\n",
    "    # Append the timings to the lists\n",
    "    construction_times.append(construction_time)\n",
    "    total_times.append(total_time)\n",
    "    bytes.append(H_bytes)\n",
    "    mempool_used.append(mempool.used_bytes())\n",
    "    # pinned_mempool_used.append(pinned_mempool.used_bytes())\n",
    "\n",
    "    # mempool.free_all_blocks()\n",
    "    # pinned_mempool.free_all_blocks()\n"
   ]
  },
  {
   "cell_type": "code",
   "execution_count": null,
   "metadata": {},
   "outputs": [],
   "source": [
    "def plot_times(system_sizes, construction_times, label=\"Construction Time\"):\n",
    "    plt.plot(system_sizes, construction_times, label='Construction Time')\n",
    "    plt.plot(system_sizes, total_times, label='Total Time')\n",
    "    plt.xlabel('System Size')\n",
    "    plt.ylabel('Time (s)')\n",
    "    plt.title('Hamiltonian Construction and Total Time vs System Size')\n",
    "    plt.legend()\n",
    "    plt.show()"
   ]
  },
  {
   "cell_type": "code",
   "execution_count": null,
   "metadata": {},
   "outputs": [
    {
     "data": {
      "image/png": "[encoded data removed]",
      "text/plain": [
       "<Figure size 640x480 with 1 Axes>"
      ]
     },
     "metadata": {},
     "output_type": "display_data"
    }
   ],
   "source": [
    "plot_times(system_sizes, construction_times)"
   ]
  },
  {
   "cell_type": "code",
   "execution_count": 18,
   "metadata": {},
   "outputs": [
    {
     "data": {
      "text/plain": [
       "<cupyx.scipy.sparse._csr.csr_matrix at 0x1bb29a44380>"
      ]
     },
     "execution_count": 18,
     "metadata": {},
     "output_type": "execute_result"
    }
   ],
   "source": [
    "tfim_hamiltonian_cuda(22, 100, 1, True, cp.float32, False)"
   ]
  },
  {
   "cell_type": "code",
   "execution_count": 15,
   "metadata": {},
   "outputs": [
    {
     "data": {
      "text/plain": [
       "<cupyx.scipy.sparse._csr.csr_matrix at 0x1bb048a1280>"
      ]
     },
     "execution_count": 15,
     "metadata": {},
     "output_type": "execute_result"
    }
   ],
   "source": [
    "tfim_hamiltonian_cuda(18, 100, 1, True, cp.float32, False)"
   ]
  },
  {
   "cell_type": "code",
   "execution_count": 21,
   "metadata": {},
   "outputs": [
    {
     "data": {
      "text/plain": [
       "<cupyx.scipy.sparse._csr.csr_matrix at 0x1bb29a45a90>"
      ]
     },
     "execution_count": 21,
     "metadata": {},
     "output_type": "execute_result"
    }
   ],
   "source": [
    "tfim_hamiltonian_cuda(20, 23, 1, True, cp.float32, False)"
   ]
  },
  {
   "cell_type": "code",
   "execution_count": null,
   "metadata": {},
   "outputs": [],
   "source": []
  },
  {
   "cell_type": "code",
   "execution_count": null,
   "metadata": {},
   "outputs": [],
   "source": [
    "def plot_usage(system_sizes, bytes, mempool_used):\n",
    "  plt.plot(system_sizes, bytes, label='Bytes')\n",
    "  plt.plot(system_sizes, mempool_used, label='Mempool Used')\n",
    "  plt.xlabel('System Size')\n",
    "  plt.ylabel('Memory (bytes)')\n",
    "  plt.title('Bytes and Mempool Used vs System Size')\n",
    "  plt.legend()\n",
    "  plt.show()"
   ]
  },
  {
   "cell_type": "code",
   "execution_count": null,
   "metadata": {},
   "outputs": [
    {
     "data": {
      "image/png": "[encoded data removed]",
      "text/plain": [
       "<Figure size 640x480 with 1 Axes>"
      ]
     },
     "metadata": {},
     "output_type": "display_data"
    }
   ],
   "source": [
    "plot_usage(system_sizes, bytes, mempool_used)"
   ]
  },
  {
   "cell_type": "code",
   "execution_count": null,
   "metadata": {},
   "outputs": [],
   "source": [
    "N = 10\n",
    "\n",
    "I = identity(2, format='csr', dtype=cp.float64)\n",
    "X = csr_matrix(cp.array([[0.0, 1.0], [1.0, 0.0]]), dtype=cp.float64)\n",
    "Z = csr_matrix(cp.array([[1.0, 0.0], [0.0, -1.0]]), dtype=cp.float64)\n",
    "\n",
    "operators_first_term = np.array([I] * N)\n",
    "operators_first_term[0] = Z\n",
    "operators_first_term[1] = Z"
   ]
  },
  {
   "cell_type": "code",
   "execution_count": null,
   "metadata": {},
   "outputs": [
    {
     "data": {
      "text/plain": [
       "array([<cupyx.scipy.sparse._csr.csr_matrix object at 0x0000029A6A409A00>,\n",
       "       <cupyx.scipy.sparse._csr.csr_matrix object at 0x0000029A6A409A00>,\n",
       "       <cupyx.scipy.sparse._csr.csr_matrix object at 0x0000029A6A409010>,\n",
       "       <cupyx.scipy.sparse._csr.csr_matrix object at 0x0000029A6A409010>,\n",
       "       <cupyx.scipy.sparse._csr.csr_matrix object at 0x0000029A6A409010>,\n",
       "       <cupyx.scipy.sparse._csr.csr_matrix object at 0x0000029A6A409010>,\n",
       "       <cupyx.scipy.sparse._csr.csr_matrix object at 0x0000029A6A409010>,\n",
       "       <cupyx.scipy.sparse._csr.csr_matrix object at 0x0000029A6A409010>,\n",
       "       <cupyx.scipy.sparse._csr.csr_matrix object at 0x0000029A6A409010>,\n",
       "       <cupyx.scipy.sparse._csr.csr_matrix object at 0x0000029A6A409010>],\n",
       "      dtype=object)"
      ]
     },
     "execution_count": 13,
     "metadata": {},
     "output_type": "execute_result"
    }
   ],
   "source": [
    "operators_first_term"
   ]
  },
  {
   "cell_type": "code",
   "execution_count": null,
   "metadata": {},
   "outputs": [],
   "source": []
  }
 ],
 "metadata": {
  "kernelspec": {
   "display_name": "tqs",
   "language": "python",
   "name": "python3"
  },
  "language_info": {
   "codemirror_mode": {
    "name": "ipython",
    "version": 3
   },
   "file_extension": ".py",
   "mimetype": "text/x-python",
   "name": "python",
   "nbconvert_exporter": "python",
   "pygments_lexer": "ipython3",
   "version": "3.12.4"
  }
 },
 "nbformat": 4,
 "nbformat_minor": 2
}
